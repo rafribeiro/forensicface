{
 "cells": [
  {
   "cell_type": "markdown",
   "metadata": {},
   "source": [
    "# Utilities\n",
    "\n",
    "> Numpy-based cosine similarity optimized to generate same- and different-source scores"
   ]
  },
  {
   "cell_type": "code",
   "execution_count": null,
   "metadata": {},
   "outputs": [],
   "source": [
    "# | default_exp utils"
   ]
  },
  {
   "cell_type": "code",
   "execution_count": null,
   "metadata": {},
   "outputs": [],
   "source": [
    "# | export\n",
    "import numpy as np"
   ]
  },
  {
   "cell_type": "code",
   "execution_count": null,
   "metadata": {},
   "outputs": [],
   "source": [
    "# | export\n",
    "\n",
    "\n",
    "def cosine_similarity(X, Z):\n",
    "    # Normalize the embeddings\n",
    "    X = X / np.linalg.norm(X, axis=1, keepdims=True)\n",
    "    Z = Z / np.linalg.norm(Z, axis=1, keepdims=True)\n",
    "\n",
    "    # Compute the dot product between the normalized embeddings\n",
    "    dot_product = np.dot(X, Z.T)\n",
    "\n",
    "    # Return the cosine similarity between the embeddings\n",
    "    return dot_product"
   ]
  },
  {
   "cell_type": "code",
   "execution_count": null,
   "metadata": {},
   "outputs": [],
   "source": [
    "# | export\n",
    "\n",
    "\n",
    "def compute_ss_ds(X, x_id, x_names=None, Z=None, z_id=None, z_names=None):\n",
    "    \"\"\"\n",
    "    Compute cosine similarities between the cartesian product of two arrays X and Z and\n",
    "    return same-source (ss) and different-source (ds) scores.\n",
    "    If only the array X and x_id are provided, compute the cosine similarities between all pairwise\n",
    "    combination in X. Also return the names of the files associated with each score, is x_names and z_names are provided.\n",
    "\n",
    "    Inputs:\n",
    "        X, Z: 2d numpy arrays with embeddings (1 per line)\n",
    "        x_id, z_id: 1d numpy arrays with identity labels\n",
    "        x_names, z_names: 1d numpy arrays with names of files associated with the embeddings\n",
    "\n",
    "    Returns:\n",
    "        scores: 1d numpy array with scores\n",
    "        y: 1d numpy arrays with ss (1) and ds (0) labels to the scores array\n",
    "        names: list of tuples with names of files associated with each score\n",
    "    \"\"\"\n",
    "    assert X.ndim == 2\n",
    "    assert X.shape[0] == len(x_id)\n",
    "    ss_names = None\n",
    "    ds_names = None\n",
    "    if Z is None:  # compute scores of X vs X\n",
    "        similarities = cosine_similarity(X, X)\n",
    "        ss_mask = x_id[:, np.newaxis] == x_id\n",
    "        upper_triangle_mask = np.triu(np.ones_like(similarities), k=1).astype(bool)\n",
    "        ss = similarities[(ss_mask & upper_triangle_mask)]\n",
    "        ds = similarities[(~ss_mask & upper_triangle_mask)]\n",
    "        if x_names is not None:  # compute names of X vs X\n",
    "            assert X.shape[0] == len(x_id) == len(x_names)\n",
    "            ss_names = [\n",
    "                (x_names[i], x_names[j])\n",
    "                for i, j in np.argwhere(upper_triangle_mask)\n",
    "                if x_id[i] == x_id[j]\n",
    "            ]\n",
    "            ds_names = [\n",
    "                (x_names[i], x_names[j])\n",
    "                for i, j in np.argwhere(upper_triangle_mask)\n",
    "                if x_id[i] != x_id[j]\n",
    "            ]\n",
    "    if Z is not None:  # compute scores of X vs Z\n",
    "        assert Z.ndim == 2\n",
    "        assert Z.shape[0] == len(z_id)\n",
    "        similarities = cosine_similarity(X, Z)\n",
    "        ss_mask = x_id[:, np.newaxis] == z_id\n",
    "        ss = similarities[ss_mask]\n",
    "        ds = similarities[~ss_mask]\n",
    "        if z_names is not None:  # compute names of X vs Z\n",
    "            assert Z.shape[0] == len(z_id) == len(z_names)\n",
    "            ss_names = [(x_names[i], z_names[j]) for i, j in np.argwhere(ss_mask)]\n",
    "            ds_names = [(x_names[i], z_names[j]) for i, j in np.argwhere(~ss_mask)]\n",
    "\n",
    "    scores = np.concatenate([ss, ds])\n",
    "    y = np.concatenate([np.ones(len(ss)), np.zeros(len(ds))])\n",
    "    names = (\n",
    "        ss_names + ds_names if ss_names is not None and ds_names is not None else None\n",
    "    )\n",
    "    return scores, y, names"
   ]
  },
  {
   "cell_type": "code",
   "execution_count": null,
   "metadata": {},
   "outputs": [
    {
     "data": {
      "text/plain": [
       "(array([0.7261676 , 0.76134557, 0.78772832, 0.76922003, 0.74130075,\n",
       "        0.75798372, 0.77273163, 0.75997033, 0.76467846, 0.71801777,\n",
       "        0.75326126, 0.73211696, 0.72354578, 0.78339759, 0.74410164,\n",
       "        0.74325012]),\n",
       " array([1., 1., 1., 1., 1., 1., 0., 0., 0., 0., 0., 0., 0., 0., 0., 0.]),\n",
       " [('0_a.jpg', '0_c.jpg'),\n",
       "  ('0_b.jpg', '0_c.jpg'),\n",
       "  ('1_a.jpg', '1_c.jpg'),\n",
       "  ('1_a.jpg', '1_d.jpg'),\n",
       "  ('1_b.jpg', '1_c.jpg'),\n",
       "  ('1_b.jpg', '1_d.jpg'),\n",
       "  ('0_a.jpg', '1_c.jpg'),\n",
       "  ('0_a.jpg', '1_d.jpg'),\n",
       "  ('0_a.jpg', '2_a.jpg'),\n",
       "  ('0_b.jpg', '1_c.jpg'),\n",
       "  ('0_b.jpg', '1_d.jpg'),\n",
       "  ('0_b.jpg', '2_a.jpg'),\n",
       "  ('1_a.jpg', '0_c.jpg'),\n",
       "  ('1_a.jpg', '2_a.jpg'),\n",
       "  ('1_b.jpg', '0_c.jpg'),\n",
       "  ('1_b.jpg', '2_a.jpg')])"
      ]
     },
     "execution_count": null,
     "metadata": {},
     "output_type": "execute_result"
    }
   ],
   "source": [
    "# Example usage\n",
    "X = np.random.rand(4, 128)  # 4 embeddings of dimension 128\n",
    "x_id = np.array([0, 0, 1, 1])  # Identity labels\n",
    "x_names = np.array([\"0_a.jpg\", \"0_b.jpg\", \"1_a.jpg\", \"1_b.jpg\"])\n",
    "\n",
    "Z = np.random.rand(4, 128)  # 4 embeddings of dimension 128\n",
    "z_id = np.array([0, 1, 1, 2])  # Identity labels\n",
    "z_names = np.array([\"0_c.jpg\", \"1_c.jpg\", \"1_d.jpg\", \"2_a.jpg\"])\n",
    "\n",
    "scores, y, names = compute_ss_ds(\n",
    "    X=X, x_id=x_id, x_names=x_names, Z=Z, z_id=z_id, z_names=z_names\n",
    ")\n",
    "scores, y, names"
   ]
  },
  {
   "cell_type": "code",
   "execution_count": null,
   "metadata": {},
   "outputs": [
    {
     "data": {
      "text/plain": [
       "(array([0.7261676 , 0.76134557, 0.78772832, 0.76922003, 0.74130075,\n",
       "        0.75798372, 0.77273163, 0.75997033, 0.76467846, 0.71801777,\n",
       "        0.75326126, 0.73211696, 0.72354578, 0.78339759, 0.74410164,\n",
       "        0.74325012]),\n",
       " array([1., 1., 1., 1., 1., 1., 0., 0., 0., 0., 0., 0., 0., 0., 0., 0.]),\n",
       " None)"
      ]
     },
     "execution_count": null,
     "metadata": {},
     "output_type": "execute_result"
    }
   ],
   "source": [
    "scores, y, names = compute_ss_ds(X=X, x_id=x_id, Z=Z, z_id=z_id)\n",
    "scores, y, names"
   ]
  },
  {
   "cell_type": "code",
   "execution_count": null,
   "metadata": {},
   "outputs": [
    {
     "data": {
      "text/plain": [
       "(array([0.75920622, 0.77365152, 0.76394119, 0.78708138, 0.75681996,\n",
       "        0.79128601]),\n",
       " array([1., 1., 0., 0., 0., 0.]),\n",
       " [('0_a.jpg', '0_b.jpg'),\n",
       "  ('1_a.jpg', '1_b.jpg'),\n",
       "  ('0_a.jpg', '1_a.jpg'),\n",
       "  ('0_a.jpg', '1_b.jpg'),\n",
       "  ('0_b.jpg', '1_a.jpg'),\n",
       "  ('0_b.jpg', '1_b.jpg')])"
      ]
     },
     "execution_count": null,
     "metadata": {},
     "output_type": "execute_result"
    }
   ],
   "source": [
    "scores, y, names = compute_ss_ds(X=X, x_id=x_id, x_names=x_names)\n",
    "scores, y, names"
   ]
  },
  {
   "cell_type": "code",
   "execution_count": null,
   "metadata": {},
   "outputs": [
    {
     "data": {
      "text/plain": [
       "(array([0.75920622, 0.77365152, 0.76394119, 0.78708138, 0.75681996,\n",
       "        0.79128601]),\n",
       " array([1., 1., 0., 0., 0., 0.]),\n",
       " None)"
      ]
     },
     "execution_count": null,
     "metadata": {},
     "output_type": "execute_result"
    }
   ],
   "source": [
    "scores, y, names = compute_ss_ds(X=X, x_id=x_id)\n",
    "scores, y, names"
   ]
  }
 ],
 "metadata": {
  "kernelspec": {
   "display_name": "python3",
   "language": "python",
   "name": "python3"
  }
 },
 "nbformat": 4,
 "nbformat_minor": 2
}
