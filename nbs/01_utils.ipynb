{
 "cells": [
  {
   "cell_type": "markdown",
   "metadata": {},
   "source": [
    "# Utilities\n",
    "\n",
    "> Numpy-based cosine similarity optimized to generate same- and different-source scores"
   ]
  },
  {
   "cell_type": "code",
   "execution_count": null,
   "metadata": {},
   "outputs": [],
   "source": [
    "# | default_exp utils"
   ]
  },
  {
   "cell_type": "code",
   "execution_count": null,
   "metadata": {},
   "outputs": [],
   "source": [
    "# | export\n",
    "import numpy as np"
   ]
  },
  {
   "cell_type": "code",
   "execution_count": null,
   "metadata": {},
   "outputs": [],
   "source": [
    "# | export\n",
    "\n",
    "\n",
    "def cosine_similarity(X, Z):\n",
    "    # Normalize the embeddings\n",
    "    X = X / np.linalg.norm(X, axis=1, keepdims=True)\n",
    "    Z = Z / np.linalg.norm(Z, axis=1, keepdims=True)\n",
    "\n",
    "    # Compute the dot product between the normalized embeddings\n",
    "    dot_product = np.dot(X, Z.T)\n",
    "\n",
    "    # Return the cosine similarity between the embeddings\n",
    "    return dot_product"
   ]
  },
  {
   "cell_type": "code",
   "execution_count": null,
   "metadata": {},
   "outputs": [],
   "source": [
    "# | export\n",
    "\n",
    "\n",
    "def compute_ss_ds(X, x_id, x_names=None, Z=None, z_id=None, z_names=None):\n",
    "    \"\"\"\n",
    "    Compute cosine similarities between the cartesian product of two arrays X and Z and\n",
    "    return same-source (ss) and different-source (ds) scores.\n",
    "    If only the array X and x_id are provided, compute the cosine similarities between all pairwise\n",
    "    combination in X. Also return the names of the files associated with each score, is x_names and z_names are provided.\n",
    "\n",
    "    Inputs:\n",
    "        X, Z: 2d numpy arrays with embeddings (1 per line)\n",
    "        x_id, z_id: 1d numpy arrays with identity labels\n",
    "        x_names, z_names: 1d numpy arrays with names of files associated with the embeddings\n",
    "\n",
    "    Returns:\n",
    "        scores: 1d numpy array with scores\n",
    "        y: 1d numpy arrays with ss (1) and ds (0) labels to the scores array\n",
    "        names: list of tuples with names of files associated with each score\n",
    "    \"\"\"\n",
    "    assert X.ndim == 2\n",
    "    assert X.shape[0] == len(x_id)\n",
    "    ss_names = None\n",
    "    ds_names = None\n",
    "    if Z is None:  # compute scores of X vs X\n",
    "        similarities = cosine_similarity(X, X)\n",
    "        ss_mask = x_id[:, np.newaxis] == x_id\n",
    "        upper_triangle_mask = np.triu(np.ones_like(similarities), k=1).astype(bool)\n",
    "        ss = similarities[(ss_mask & upper_triangle_mask)]\n",
    "        ds = similarities[(~ss_mask & upper_triangle_mask)]\n",
    "        if x_names is not None:  # compute names of X vs X\n",
    "            assert X.shape[0] == len(x_id) == len(x_names)\n",
    "            ss_names = [\n",
    "                (x_names[i], x_names[j])\n",
    "                for i, j in np.argwhere(upper_triangle_mask)\n",
    "                if x_id[i] == x_id[j]\n",
    "            ]\n",
    "            ds_names = [\n",
    "                (x_names[i], x_names[j])\n",
    "                for i, j in np.argwhere(upper_triangle_mask)\n",
    "                if x_id[i] != x_id[j]\n",
    "            ]\n",
    "    if Z is not None:  # compute scores of X vs Z\n",
    "        assert Z.ndim == 2\n",
    "        assert Z.shape[0] == len(z_id)\n",
    "        similarities = cosine_similarity(X, Z)\n",
    "        ss_mask = x_id[:, np.newaxis] == z_id\n",
    "        ss = similarities[ss_mask]\n",
    "        ds = similarities[~ss_mask]\n",
    "        if z_names is not None:  # compute names of X vs Z\n",
    "            assert Z.shape[0] == len(z_id) == len(z_names)\n",
    "            ss_names = [(x_names[i], z_names[j]) for i, j in np.argwhere(ss_mask)]\n",
    "            ds_names = [(x_names[i], z_names[j]) for i, j in np.argwhere(~ss_mask)]\n",
    "\n",
    "    scores = np.concatenate([ss, ds])\n",
    "    y = np.concatenate([np.ones(len(ss)), np.zeros(len(ds))])\n",
    "    names = (\n",
    "        ss_names + ds_names if ss_names is not None and ds_names is not None else None\n",
    "    )\n",
    "    return scores, y, names"
   ]
  },
  {
   "cell_type": "code",
   "execution_count": null,
   "metadata": {},
   "outputs": [
    {
     "data": {
      "text/plain": [
       "(array([0.7261676 , 0.76134557, 0.78772832, 0.76922003, 0.74130075,\n",
       "        0.75798372, 0.77273163, 0.75997033, 0.76467846, 0.71801777,\n",
       "        0.75326126, 0.73211696, 0.72354578, 0.78339759, 0.74410164,\n",
       "        0.74325012]),\n",
       " array([1., 1., 1., 1., 1., 1., 0., 0., 0., 0., 0., 0., 0., 0., 0., 0.]),\n",
       " [('0_a.jpg', '0_c.jpg'),\n",
       "  ('0_b.jpg', '0_c.jpg'),\n",
       "  ('1_a.jpg', '1_c.jpg'),\n",
       "  ('1_a.jpg', '1_d.jpg'),\n",
       "  ('1_b.jpg', '1_c.jpg'),\n",
       "  ('1_b.jpg', '1_d.jpg'),\n",
       "  ('0_a.jpg', '1_c.jpg'),\n",
       "  ('0_a.jpg', '1_d.jpg'),\n",
       "  ('0_a.jpg', '2_a.jpg'),\n",
       "  ('0_b.jpg', '1_c.jpg'),\n",
       "  ('0_b.jpg', '1_d.jpg'),\n",
       "  ('0_b.jpg', '2_a.jpg'),\n",
       "  ('1_a.jpg', '0_c.jpg'),\n",
       "  ('1_a.jpg', '2_a.jpg'),\n",
       "  ('1_b.jpg', '0_c.jpg'),\n",
       "  ('1_b.jpg', '2_a.jpg')])"
      ]
     },
     "execution_count": null,
     "metadata": {},
     "output_type": "execute_result"
    }
   ],
   "source": [
    "# Example usage\n",
    "X = np.random.rand(4, 128)  # 4 embeddings of dimension 128\n",
    "x_id = np.array([0, 0, 1, 1])  # Identity labels\n",
    "x_names = np.array([\"0_a.jpg\", \"0_b.jpg\", \"1_a.jpg\", \"1_b.jpg\"])\n",
    "\n",
    "Z = np.random.rand(4, 128)  # 4 embeddings of dimension 128\n",
    "z_id = np.array([0, 1, 1, 2])  # Identity labels\n",
    "z_names = np.array([\"0_c.jpg\", \"1_c.jpg\", \"1_d.jpg\", \"2_a.jpg\"])\n",
    "\n",
    "scores, y, names = compute_ss_ds(\n",
    "    X=X, x_id=x_id, x_names=x_names, Z=Z, z_id=z_id, z_names=z_names\n",
    ")\n",
    "scores, y, names"
   ]
  },
  {
   "cell_type": "code",
   "execution_count": null,
   "metadata": {},
   "outputs": [
    {
     "data": {
      "text/plain": [
       "(array([0.7261676 , 0.76134557, 0.78772832, 0.76922003, 0.74130075,\n",
       "        0.75798372, 0.77273163, 0.75997033, 0.76467846, 0.71801777,\n",
       "        0.75326126, 0.73211696, 0.72354578, 0.78339759, 0.74410164,\n",
       "        0.74325012]),\n",
       " array([1., 1., 1., 1., 1., 1., 0., 0., 0., 0., 0., 0., 0., 0., 0., 0.]),\n",
       " None)"
      ]
     },
     "execution_count": null,
     "metadata": {},
     "output_type": "execute_result"
    }
   ],
   "source": [
    "scores, y, names = compute_ss_ds(X=X, x_id=x_id, Z=Z, z_id=z_id)\n",
    "scores, y, names"
   ]
  },
  {
   "cell_type": "code",
   "execution_count": null,
   "metadata": {},
   "outputs": [
    {
     "data": {
      "text/plain": [
       "(array([0.75920622, 0.77365152, 0.76394119, 0.78708138, 0.75681996,\n",
       "        0.79128601]),\n",
       " array([1., 1., 0., 0., 0., 0.]),\n",
       " [('0_a.jpg', '0_b.jpg'),\n",
       "  ('1_a.jpg', '1_b.jpg'),\n",
       "  ('0_a.jpg', '1_a.jpg'),\n",
       "  ('0_a.jpg', '1_b.jpg'),\n",
       "  ('0_b.jpg', '1_a.jpg'),\n",
       "  ('0_b.jpg', '1_b.jpg')])"
      ]
     },
     "execution_count": null,
     "metadata": {},
     "output_type": "execute_result"
    }
   ],
   "source": [
    "scores, y, names = compute_ss_ds(X=X, x_id=x_id, x_names=x_names)\n",
    "scores, y, names"
   ]
  },
  {
   "cell_type": "code",
   "execution_count": null,
   "metadata": {},
   "outputs": [
    {
     "data": {
      "text/plain": [
       "(array([0.75920622, 0.77365152, 0.76394119, 0.78708138, 0.75681996,\n",
       "        0.79128601]),\n",
       " array([1., 1., 0., 0., 0., 0.]),\n",
       " None)"
      ]
     },
     "execution_count": null,
     "metadata": {},
     "output_type": "execute_result"
    }
   ],
   "source": [
    "scores, y, names = compute_ss_ds(X=X, x_id=x_id)\n",
    "scores, y, names"
   ]
  },
  {
   "cell_type": "markdown",
   "metadata": {},
   "source": [
    "> Export the Python version and the packages names and versions in the active virtual environment"
   ]
  },
  {
   "cell_type": "code",
   "execution_count": null,
   "metadata": {},
   "outputs": [],
   "source": [
    "# | export\n",
    "def freeze_env():\n",
    "    import sys\n",
    "    import pkg_resources\n",
    "\n",
    "    env = {}\n",
    "    env.update({\"Python version\": f\"{sys.version}\"})\n",
    "\n",
    "    installed_packages = [\n",
    "        (d.project_name, d.version) for d in pkg_resources.working_set\n",
    "    ]\n",
    "    installed_packages.sort(\n",
    "        key=lambda x: x[0].lower()\n",
    "    )  # Sort alphabetically, case-insensitive\n",
    "\n",
    "    for package, version in installed_packages:\n",
    "        env.update({f\"{package}\": f\"{version}\"})\n",
    "    return env"
   ]
  },
  {
   "cell_type": "code",
   "execution_count": null,
   "metadata": {},
   "outputs": [
    {
     "data": {
      "text/plain": [
       "{'Python version': '3.10.11 (main, May 16 2023, 00:28:57) [GCC 11.2.0]',\n",
       " 'albumentations': '1.3.1',\n",
       " 'asttokens': '2.2.1',\n",
       " 'astunparse': '1.6.3',\n",
       " 'backcall': '0.2.0',\n",
       " 'backports.functools-lru-cache': '1.6.4',\n",
       " 'bleach': '6.0.0',\n",
       " 'certifi': '2023.5.7',\n",
       " 'cffi': '1.15.1',\n",
       " 'charset-normalizer': '3.1.0',\n",
       " 'coloredlogs': '15.0.1',\n",
       " 'contourpy': '1.1.0',\n",
       " 'cryptography': '41.0.1',\n",
       " 'cycler': '0.11.0',\n",
       " 'Cython': '0.29.35',\n",
       " 'debugpy': '1.5.1',\n",
       " 'decorator': '5.1.1',\n",
       " 'docutils': '0.20.1',\n",
       " 'easydict': '1.10',\n",
       " 'entrypoints': '0.4',\n",
       " 'execnb': '0.1.5',\n",
       " 'executing': '1.2.0',\n",
       " 'fastcore': '1.5.29',\n",
       " 'flatbuffers': '23.5.26',\n",
       " 'fonttools': '4.40.0',\n",
       " 'forensicface': '0.3.5',\n",
       " 'ghapi': '1.0.4',\n",
       " 'humanfriendly': '10.0',\n",
       " 'idna': '3.4',\n",
       " 'imageio': '2.31.1',\n",
       " 'importlib-metadata': '6.7.0',\n",
       " 'imutils': '0.5.4',\n",
       " 'insightface': '0.7.3',\n",
       " 'ipykernel': '6.15.0',\n",
       " 'ipython': '8.14.0',\n",
       " 'jaraco.classes': '3.2.3',\n",
       " 'jedi': '0.18.2',\n",
       " 'jeepney': '0.8.0',\n",
       " 'joblib': '1.2.0',\n",
       " 'jupyter-client': '7.3.4',\n",
       " 'jupyter-core': '5.3.1',\n",
       " 'jupyterlab-quarto': '0.2.8',\n",
       " 'keyring': '24.0.0',\n",
       " 'kiwisolver': '1.4.4',\n",
       " 'lazy-loader': '0.2',\n",
       " 'markdown-it-py': '3.0.0',\n",
       " 'matplotlib': '3.7.1',\n",
       " 'matplotlib-inline': '0.1.6',\n",
       " 'mdurl': '0.1.2',\n",
       " 'more-itertools': '9.1.0',\n",
       " 'mpmath': '1.3.0',\n",
       " 'nbdev': '2.3.27',\n",
       " 'nest-asyncio': '1.5.6',\n",
       " 'networkx': '3.1',\n",
       " 'numpy': '1.25.0',\n",
       " 'onnx': '1.14.0',\n",
       " 'onnxruntime-gpu': '1.15.0',\n",
       " 'opencv-python-headless': '4.7.0.72',\n",
       " 'packaging': '23.1',\n",
       " 'pandas': '2.0.2',\n",
       " 'parso': '0.8.3',\n",
       " 'pexpect': '4.8.0',\n",
       " 'pickleshare': '0.7.5',\n",
       " 'Pillow': '9.5.0',\n",
       " 'pip': '23.1.2',\n",
       " 'pkginfo': '1.9.6',\n",
       " 'platformdirs': '3.6.0',\n",
       " 'prettytable': '3.8.0',\n",
       " 'prompt-toolkit': '3.0.38',\n",
       " 'protobuf': '4.23.3',\n",
       " 'psutil': '5.9.0',\n",
       " 'ptyprocess': '0.7.0',\n",
       " 'pure-eval': '0.2.2',\n",
       " 'pycparser': '2.21',\n",
       " 'Pygments': '2.15.1',\n",
       " 'pyparsing': '3.1.0',\n",
       " 'python-dateutil': '2.8.2',\n",
       " 'pytz': '2023.3',\n",
       " 'PyWavelets': '1.4.1',\n",
       " 'PyYAML': '6.0',\n",
       " 'pyzmq': '25.1.0',\n",
       " 'qudida': '0.0.4',\n",
       " 'readme-renderer': '40.0',\n",
       " 'requests': '2.31.0',\n",
       " 'requests-toolbelt': '1.0.0',\n",
       " 'rfc3986': '2.0.0',\n",
       " 'rich': '13.4.2',\n",
       " 'scikit-image': '0.21.0',\n",
       " 'scikit-learn': '1.2.2',\n",
       " 'scipy': '1.10.1',\n",
       " 'seaborn': '0.13.2',\n",
       " 'SecretStorage': '3.3.3',\n",
       " 'setuptools': '67.8.0',\n",
       " 'six': '1.16.0',\n",
       " 'stack-data': '0.6.2',\n",
       " 'sympy': '1.12',\n",
       " 'threadpoolctl': '3.1.0',\n",
       " 'tifffile': '2023.4.12',\n",
       " 'tornado': '6.1',\n",
       " 'tqdm': '4.65.0',\n",
       " 'traitlets': '5.9.0',\n",
       " 'twine': '4.0.2',\n",
       " 'typing-extensions': '4.6.3',\n",
       " 'tzdata': '2023.3',\n",
       " 'urllib3': '2.0.3',\n",
       " 'watchdog': '3.0.0',\n",
       " 'wcwidth': '0.2.6',\n",
       " 'webencodings': '0.5.1',\n",
       " 'wheel': '0.38.4',\n",
       " 'zipp': '3.15.0'}"
      ]
     },
     "execution_count": null,
     "metadata": {},
     "output_type": "execute_result"
    }
   ],
   "source": [
    "# example usage\n",
    "\n",
    "freeze_env()"
   ]
  }
 ],
 "metadata": {
  "kernelspec": {
   "display_name": "python3",
   "language": "python",
   "name": "python3"
  }
 },
 "nbformat": 4,
 "nbformat_minor": 2
}
