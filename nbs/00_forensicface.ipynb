{
 "cells": [
  {
   "cell_type": "markdown",
   "metadata": {},
   "source": [
    "# forensicface--A tool for forensic face examination\n",
    "\n",
    "> An integrated tool to compare faces using state-of-the-art face recognition models and compute Likelihood Ratios "
   ]
  },
  {
   "cell_type": "code",
   "execution_count": null,
   "metadata": {},
   "outputs": [],
   "source": [
    "# | default_exp app"
   ]
  },
  {
   "cell_type": "code",
   "execution_count": null,
   "metadata": {},
   "outputs": [],
   "source": [
    "# | export\n",
    "from nbdev.showdoc import *\n",
    "from fastcore.utils import *\n",
    "import onnxruntime\n",
    "import cv2\n",
    "import numpy as np\n",
    "import os.path as osp\n",
    "from glob import glob\n",
    "from imutils import build_montages\n",
    "from insightface.app import FaceAnalysis\n",
    "from insightface.utils import face_align\n",
    "from tqdm import tqdm\n",
    "from forensicface.utils import freeze_env, transform_keypoints, annotate_img_with_kps"
   ]
  },
  {
   "cell_type": "code",
   "execution_count": null,
   "metadata": {},
   "outputs": [],
   "source": [
    "# | export\n",
    "class ForensicFace:\n",
    "    \"\"\"\n",
    "    Class for processing facial images to extract useful features for forensic analysis.\n",
    "    \"\"\"\n",
    "\n",
    "    def __init__(\n",
    "        self,\n",
    "        model: str = \"sepaelv2\",\n",
    "        det_size: int = 320,\n",
    "        use_gpu: bool = True,\n",
    "        gpu: int = 0,  # which GPU to use\n",
    "        extended=True,\n",
    "        det_thresh: float = 0.5,\n",
    "    ):\n",
    "        \"\"\"\n",
    "        A face comparison tool for forensic analysis and comparison of facial images.\n",
    "\n",
    "        Args:\n",
    "        - model (str): The name of the face recognition model to use (default: \"sepaelv2\").\n",
    "        - det_size (int): The size of the input images for face detection (default: 320).\n",
    "        - use_gpu (bool): Whether to use a GPU for inference (default: True).\n",
    "        - gpu (int): The ID of the GPU to use (default: 0).\n",
    "        - extended (bool): Whether to use extended modules (detection, landmark_3d_68, genderage) (default: True).\n",
    "        - det_thresh (float): threshold for the face detector (default = 0.5).\n",
    "        \"\"\"\n",
    "        self.extended = extended\n",
    "        if self.extended == True:\n",
    "            allowed_modules = [\"detection\", \"landmark_3d_68\", \"genderage\"]\n",
    "            self.ort_fiqa = onnxruntime.InferenceSession(\n",
    "                osp.join(\n",
    "                    osp.expanduser(\"~/.insightface/models\"),\n",
    "                    model,\n",
    "                    \"cr_fiqa\",\n",
    "                    \"cr_fiqa_l.onnx\",\n",
    "                ),\n",
    "                providers=(\n",
    "                    [(\"CUDAExecutionProvider\", {\"device_id\": gpu})]\n",
    "                    if use_gpu\n",
    "                    else [\"CPUExecutionProvider\"]\n",
    "                ),\n",
    "            )\n",
    "        else:\n",
    "            allowed_modules = [\"detection\"]\n",
    "\n",
    "        self.det_size = (det_size, det_size)\n",
    "        self.det_thresh = det_thresh\n",
    "\n",
    "        self.model = model\n",
    "\n",
    "        self.detectmodel = FaceAnalysis(\n",
    "            name=model,\n",
    "            allowed_modules=allowed_modules,\n",
    "            providers=(\n",
    "                [(\"CUDAExecutionProvider\", {\"device_id\": gpu})]\n",
    "                if use_gpu\n",
    "                else [\"CPUExecutionProvider\"]\n",
    "            ),\n",
    "        )\n",
    "        self.detectmodel.prepare(\n",
    "            ctx_id=gpu if use_gpu else -1,\n",
    "            det_size=self.det_size,\n",
    "            det_thresh=self.det_thresh,\n",
    "        )\n",
    "\n",
    "        onnx_rec_model = glob(\n",
    "            osp.join(\n",
    "                osp.expanduser(\"~/.insightface/models\"),\n",
    "                model,\n",
    "                \"adaface\",\n",
    "                \"adaface_*.onnx\",\n",
    "            )\n",
    "        )\n",
    "        assert len(onnx_rec_model) == 1\n",
    "        self.ort_ada = onnxruntime.InferenceSession(\n",
    "            onnx_rec_model[0],\n",
    "            providers=(\n",
    "                [(\"CUDAExecutionProvider\", {\"device_id\": gpu})]\n",
    "                if use_gpu\n",
    "                else [\"CPUExecutionProvider\"]\n",
    "            ),\n",
    "        )\n",
    "\n",
    "        self.environment = freeze_env()\n",
    "\n",
    "    def _to_input_ada(self, aligned_bgr_img):\n",
    "        \"\"\"\n",
    "        Preprocesses the input face for the face recognition model.\n",
    "\n",
    "        Args:\n",
    "            face: Face image as a numpy array in BGR order.\n",
    "\n",
    "        Returns:\n",
    "            Preprocessed face image as a numpy array.\n",
    "        \"\"\"\n",
    "        _aligned_bgr_img = aligned_bgr_img.astype(np.float32)\n",
    "        _aligned_bgr_img = ((_aligned_bgr_img / 255.0) - 0.5) / 0.5\n",
    "        return _aligned_bgr_img.transpose(2, 0, 1).reshape(1, 3, 112, 112)\n",
    "\n",
    "    def get_most_central_face(self, img, faces):\n",
    "        \"\"\"\n",
    "        Get the keypoints of the most central face in an image.\n",
    "\n",
    "        Args:\n",
    "            img: Input image as a numpy array.\n",
    "            faces: An insightface object with keypoints and bounding_box.\n",
    "\n",
    "        Returns:\n",
    "            Tuple containing the index of the most central face and its keypoints.\n",
    "        \"\"\"\n",
    "        assert faces is not None\n",
    "        img_center = np.array([img.shape[0] // 2, img.shape[1] // 2])\n",
    "        dist = []\n",
    "\n",
    "        # Compute centers of faces and distances from certer of image\n",
    "        for idx, face in enumerate(faces):\n",
    "            box = face.bbox.astype(\"int\").flatten()\n",
    "            face_center = np.array([(box[0] + box[2]) // 2, (box[1] + box[3]) // 2])\n",
    "            dist.append(np.linalg.norm(img_center - face_center))\n",
    "\n",
    "        # Get index of the face closest to the center of image\n",
    "        idx = dist.index(min(dist))\n",
    "        return idx, faces[idx].kps\n",
    "\n",
    "    def get_larger_face(self, img, faces):\n",
    "        \"\"\"\n",
    "        Get the keypoints of the larger face in an image.\n",
    "\n",
    "        Args:\n",
    "            img: Input image as a numpy array.\n",
    "            faces: An insightface object with keypoints and bounding_box.\n",
    "\n",
    "        Returns:\n",
    "            Tuple containing the index of the larger face and its keypoints.\n",
    "        \"\"\"\n",
    "        assert faces is not None\n",
    "        areas = []\n",
    "\n",
    "        # Compute centers of faces and distances from certer of image\n",
    "        for idx, face in enumerate(faces):\n",
    "            box = face.bbox.astype(\"int\").flatten()\n",
    "            areas.append(abs((box[2] - box[0]) * (box[3] - box[1])))\n",
    "\n",
    "        # Get index of the face closest to the center of image\n",
    "        idx = areas.index(max(areas))\n",
    "        return idx, faces[idx].kps\n",
    "\n",
    "    def process_image_single_face(\n",
    "        self, imgpath: str, draw_keypoints=False\n",
    "    ):  # Path to image to be processed\n",
    "        \"\"\"\n",
    "        Process a an image considering it has a single face and extract useful features for forensic analysis.\n",
    "\n",
    "        Args:\n",
    "            - imgpath (str): Path to the input image.\n",
    "            - draw_keypoints (bool): If set to True, draw keypoints used to face alignment into the aligned face.\n",
    "\n",
    "        Returns:\n",
    "            A dictionary containing the following keys:\n",
    "                - 'keypoints': A 2D numpy array of shape (5, 2) containing the facial keypoints\n",
    "                        for each face in the image. The keypoints are ordered as follows:\n",
    "                       left eye, right eye, nose tip, left mouth corner, and right mouth corner.\n",
    "\n",
    "                - 'ipd': A float representing the inter-pupillary distance for each face in the image.\n",
    "\n",
    "                - 'embedding': A 1D numpy array of shape (512,) containing the facial embedding\n",
    "                       for each face in the image.\n",
    "\n",
    "                - 'norm': A float representing the L2 norm of the embedding for each face in the image.\n",
    "\n",
    "                - 'bbox': A 1D numpy array of shape (4,) containing the bounding box coordinates for each face\n",
    "                  in the image. The coordinates are ordered as follows: (xmin, ymin, xmax, ymax).\n",
    "\n",
    "                - 'aligned_face': A 3D numpy array of shape (H, W, C) in RGB order containing the aligned face image for\n",
    "                          each face in the image. The image has been cropped and aligned based on the\n",
    "                          facial keypoints.\n",
    "\n",
    "                If the 'extended' attribute is set to True, the dictionary will also contain the following keys:\n",
    "                - 'gender': A string representing the gender for each face in the image.\n",
    "                               Possible values are 'M' for male and 'F' for female.\n",
    "\n",
    "                - 'age': An integer representing the estimated age for each face in the image.\n",
    "\n",
    "                - 'pitch': A float representing the pitch angle for each face in the image.\n",
    "\n",
    "                - 'yaw': A float representing the yaw angle for each face in the image.\n",
    "\n",
    "                - 'roll': A float representing the roll angle for each face in the image.\n",
    "\n",
    "                - 'det_score': A float representing the face detection score.\n",
    "        \"\"\"\n",
    "        if type(imgpath) == str:  # image path passed as argument\n",
    "            bgr_img = cv2.imread(imgpath)\n",
    "        else:  # image array passed as argument\n",
    "            bgr_img = imgpath.copy()\n",
    "        faces = self.detectmodel.get(bgr_img)\n",
    "        if len(faces) == 0:\n",
    "            return {}\n",
    "\n",
    "        idx, kps = self.get_larger_face(bgr_img, faces)\n",
    "\n",
    "        bbox = faces[idx].bbox.astype(\"int\")\n",
    "        bgr_aligned_face = face_align.norm_crop(bgr_img, kps)\n",
    "        if draw_keypoints == True:\n",
    "            M = face_align.estimate_norm(kps)\n",
    "            aligned_kps = transform_keypoints(keypoints=kps, M=M)\n",
    "            bgr_aligned_face = annotate_img_with_kps(\n",
    "                bgr_aligned_face, kps=aligned_kps, color=\"green\"\n",
    "            )\n",
    "\n",
    "        ipd = np.linalg.norm(kps[0] - kps[1])\n",
    "        det_score = faces[idx].det_score\n",
    "\n",
    "        ada_inputs = {\n",
    "            self.ort_ada.get_inputs()[0].name: self._to_input_ada(bgr_aligned_face)\n",
    "        }\n",
    "        normalized_embedding, norm = self.ort_ada.run(None, ada_inputs)\n",
    "\n",
    "        ret = {\n",
    "            \"keypoints\": kps,\n",
    "            \"ipd\": ipd,\n",
    "            \"embedding\": normalized_embedding.flatten() * norm.flatten()[0],\n",
    "            \"norm\": norm.flatten()[0],\n",
    "            \"bbox\": bbox,\n",
    "            \"det_score\": det_score,\n",
    "            \"aligned_face\": cv2.cvtColor(bgr_aligned_face, cv2.COLOR_BGR2RGB),\n",
    "        }\n",
    "\n",
    "        if self.extended:\n",
    "            gender = \"M\" if faces[idx].gender == 1 else \"F\"\n",
    "            age = faces[idx].age\n",
    "            pitch, yaw, roll = faces[idx].pose\n",
    "            _, fiqa_score = self.ort_fiqa.run(None, ada_inputs)\n",
    "            ret = {\n",
    "                **ret,\n",
    "                **{\n",
    "                    \"gender\": gender,\n",
    "                    \"age\": age,\n",
    "                    \"pitch\": pitch,\n",
    "                    \"yaw\": yaw,\n",
    "                    \"roll\": roll,\n",
    "                    \"fiqa_score\": fiqa_score[0][0],\n",
    "                },\n",
    "            }\n",
    "\n",
    "        return ret\n",
    "\n",
    "    def process_image(self, imgpath, draw_keypoints=False):\n",
    "        return self.process_image_single_face(imgpath, draw_keypoints)\n",
    "\n",
    "    def process_image_multiple_faces(\n",
    "        self, imgpath: str, draw_keypoints=False  # Path to image to be processed\n",
    "    ):\n",
    "        \"\"\"\n",
    "        Process an image with one or multiple faces and returns a list of dictionaries\n",
    "        with the following keys:\n",
    "\n",
    "            - 'keypoints': A 2D numpy array of shape (5, 2) containing the facial keypoints\n",
    "                            for each face in the image. The keypoints are ordered as follows:\n",
    "                            left eye, right eye, nose tip, left mouth corner, and right mouth corner.\n",
    "\n",
    "            - 'ipd': A float representing the inter-pupillary distance for each face in the image.\n",
    "\n",
    "            - 'embedding': A 1D numpy array of shape (512,) containing the facial embedding\n",
    "                            for each face in the image.\n",
    "\n",
    "            - 'norm': A float representing the L2 norm of the embedding for each face in the image.\n",
    "\n",
    "            - 'bbox': A 1D numpy array of shape (4,) containing the bounding box coordinates for each face\n",
    "                        in the image. The coordinates are ordered as follows: (xmin, ymin, xmax, ymax).\n",
    "\n",
    "            - 'aligned_face': A numpy array of shape (112, 112, 3) in RGB order containing the aligned face image for\n",
    "                                each face in the image. The image has been cropped and aligned based on the\n",
    "                                facial keypoints.\n",
    "\n",
    "         If the 'extended' attribute is set to True, the dictionaries will also contain the following keys:\n",
    "            - 'gender': A string representing the sex for each face in the image.\n",
    "                        Possible values are 'M' for male and 'F' for female.\n",
    "\n",
    "            - 'age': An integer representing the estimated age for each face in the image.\n",
    "\n",
    "            - 'pitch': A float representing the pitch angle for each face in the image.\n",
    "\n",
    "            - 'yaw': A float representing the yaw angle for each face in the image.\n",
    "\n",
    "            - 'roll: A float representing the roll angle for each face in the image.\n",
    "\n",
    "            - 'fiqa_score': A float representing image quality estimated by the CR-FIQA(L) model (https://doi.org/10.1109/CVPR52729.2023.00565).\n",
    "\n",
    "            - 'det_score': A float representing the face detection score\n",
    "\n",
    "        Args:\n",
    "            - imgpath (str): The file path to the image to be processed.\n",
    "            - draw_keypoints (bool): If set to True, draw keypoints used to face alignment into the aligned face.\n",
    "\n",
    "        Returns:\n",
    "            - A list of dictionaries, with each dictionary representing a face in the image.\n",
    "        \"\"\"\n",
    "        if type(imgpath) == str:  # image path passed as argument\n",
    "            bgr_img = cv2.imread(imgpath)\n",
    "        else:  # image array passed as argument\n",
    "            bgr_img = imgpath.copy()\n",
    "        faces = self.detectmodel.get(bgr_img)\n",
    "        if len(faces) == 0:\n",
    "            return []\n",
    "        ret = []\n",
    "        for face in faces:\n",
    "            kps = face.kps\n",
    "            bbox = face.bbox.astype(\"int\")\n",
    "            bgr_aligned_face = face_align.norm_crop(bgr_img, kps)\n",
    "            if draw_keypoints == True:\n",
    "                M = face_align.estimate_norm(kps)\n",
    "                aligned_kps = transform_keypoints(keypoints=kps, M=M)\n",
    "                bgr_aligned_face = annotate_img_with_kps(\n",
    "                    bgr_aligned_face, kps=aligned_kps, color=\"green\"\n",
    "                )\n",
    "\n",
    "            ipd = np.linalg.norm(kps[0] - kps[1])\n",
    "            det_score = face.det_score\n",
    "            ada_inputs = {\n",
    "                self.ort_ada.get_inputs()[0].name: self._to_input_ada(bgr_aligned_face)\n",
    "            }\n",
    "            normalized_embedding, norm = self.ort_ada.run(None, ada_inputs)\n",
    "            face_ret = {\n",
    "                \"keypoints\": kps,\n",
    "                \"ipd\": ipd,\n",
    "                \"embedding\": normalized_embedding.flatten() * norm.flatten()[0],\n",
    "                \"norm\": norm.flatten()[0],\n",
    "                \"bbox\": bbox,\n",
    "                \"det_score\": det_score,\n",
    "                \"aligned_face\": cv2.cvtColor(bgr_aligned_face, cv2.COLOR_BGR2RGB),\n",
    "            }\n",
    "\n",
    "            if self.extended:\n",
    "                gender = \"M\" if face.gender == 1 else \"F\"\n",
    "                age = face.age\n",
    "                pitch, yaw, roll = face.pose\n",
    "                _, fiqa_score = self.ort_fiqa.run(None, ada_inputs)\n",
    "                face_ret = {\n",
    "                    **face_ret,\n",
    "                    **{\n",
    "                        \"gender\": gender,\n",
    "                        \"age\": age,\n",
    "                        \"pitch\": pitch,\n",
    "                        \"yaw\": yaw,\n",
    "                        \"roll\": roll,\n",
    "                        \"fiqa_score\": fiqa_score[0][0],\n",
    "                    },\n",
    "                }\n",
    "\n",
    "            ret.append(face_ret)\n",
    "\n",
    "        return ret\n",
    "\n",
    "    def build_mosaic(self, img_path_list, mosaic_shape, border=0.03, save_to=None):\n",
    "        \"\"\"\n",
    "        Build a rectangular mosaic of the aligned faces.\n",
    "        Based on the imutils build_montages function.\n",
    "\n",
    "        Parameters:\n",
    "            img_path_list: list of paths to image files or list of bgr_images\n",
    "            mosaic_shape: tuple of integers, (n_cols, n_rows)\n",
    "            border: float, percent of image to use as white border\n",
    "\n",
    "        Returns:\n",
    "            cv2 BGR image with mosaic\n",
    "        \"\"\"\n",
    "        assert mosaic_shape is not None\n",
    "        top = int(border * 112)  # shape[0] = rows\n",
    "        bottom = top\n",
    "        left = int(border * 112)  # shape[1] = cols\n",
    "        right = left\n",
    "\n",
    "        imgs = []\n",
    "        list_of_arrays = False\n",
    "        for img in img_path_list:\n",
    "            if type(img) != str:  # image array passed as argument\n",
    "                list_of_arrays = True\n",
    "            ret = self.process_image_single_face(img)\n",
    "            if len(ret) > 0:\n",
    "                img = cv2.cvtColor(ret[\"aligned_face\"], cv2.COLOR_RGB2BGR)\n",
    "                img = cv2.copyMakeBorder(\n",
    "                    img,\n",
    "                    top=top,\n",
    "                    bottom=bottom,\n",
    "                    left=left,\n",
    "                    right=right,\n",
    "                    borderType=cv2.BORDER_CONSTANT,\n",
    "                    value=(255, 255, 255),\n",
    "                )\n",
    "                imgs.append(img)\n",
    "        mosaic = build_montages(\n",
    "            imgs,\n",
    "            image_shape=(int(112 * (1 + 2 * border)), int(112 * (1 + 2 * border))),\n",
    "            montage_shape=mosaic_shape,\n",
    "        )[0]\n",
    "        if list_of_arrays:\n",
    "            print(\n",
    "                \"WARNING: list of arrays passed as argument. Make sure image arrays are in BGR format.\"\n",
    "            )\n",
    "        if save_to is not None:\n",
    "            cv2.imwrite(save_to, mosaic)\n",
    "        return mosaic"
   ]
  },
  {
   "cell_type": "code",
   "execution_count": null,
   "metadata": {},
   "outputs": [
    {
     "name": "stdout",
     "output_type": "stream",
     "text": [
      "Applied providers: ['CUDAExecutionProvider', 'CPUExecutionProvider'], with options: {'CPUExecutionProvider': {}, 'CUDAExecutionProvider': {'device_id': '0', 'gpu_mem_limit': '18446744073709551615', 'gpu_external_alloc': '0', 'gpu_external_free': '0', 'gpu_external_empty_cache': '0', 'cudnn_conv_algo_search': 'EXHAUSTIVE', 'cudnn_conv1d_pad_to_nc1d': '0', 'arena_extend_strategy': 'kNextPowerOfTwo', 'do_copy_in_default_stream': '1', 'enable_cuda_graph': '0', 'cudnn_conv_use_max_workspace': '1', 'tunable_op_enable': '0', 'enable_skip_layer_norm_strict_mode': '0', 'tunable_op_tuning_enable': '0'}}\n",
      "find model: /home/rafael/.insightface/models/sepaelv2/1k3d68.onnx landmark_3d_68 ['None', 3, 192, 192] 0.0 1.0\n",
      "Applied providers: ['CUDAExecutionProvider', 'CPUExecutionProvider'], with options: {'CPUExecutionProvider': {}, 'CUDAExecutionProvider': {'device_id': '0', 'gpu_mem_limit': '18446744073709551615', 'gpu_external_alloc': '0', 'gpu_external_free': '0', 'gpu_external_empty_cache': '0', 'cudnn_conv_algo_search': 'EXHAUSTIVE', 'cudnn_conv1d_pad_to_nc1d': '0', 'arena_extend_strategy': 'kNextPowerOfTwo', 'do_copy_in_default_stream': '1', 'enable_cuda_graph': '0', 'cudnn_conv_use_max_workspace': '1', 'tunable_op_enable': '0', 'enable_skip_layer_norm_strict_mode': '0', 'tunable_op_tuning_enable': '0'}}\n",
      "find model: /home/rafael/.insightface/models/sepaelv2/det_10g.onnx detection [1, 3, '?', '?'] 127.5 128.0\n",
      "Applied providers: ['CUDAExecutionProvider', 'CPUExecutionProvider'], with options: {'CPUExecutionProvider': {}, 'CUDAExecutionProvider': {'device_id': '0', 'gpu_mem_limit': '18446744073709551615', 'gpu_external_alloc': '0', 'gpu_external_free': '0', 'gpu_external_empty_cache': '0', 'cudnn_conv_algo_search': 'EXHAUSTIVE', 'cudnn_conv1d_pad_to_nc1d': '0', 'arena_extend_strategy': 'kNextPowerOfTwo', 'do_copy_in_default_stream': '1', 'enable_cuda_graph': '0', 'cudnn_conv_use_max_workspace': '1', 'tunable_op_enable': '0', 'enable_skip_layer_norm_strict_mode': '0', 'tunable_op_tuning_enable': '0'}}\n",
      "find model: /home/rafael/.insightface/models/sepaelv2/genderage.onnx genderage ['None', 3, 96, 96] 0.0 1.0\n",
      "set det-size: (320, 320)\n"
     ]
    }
   ],
   "source": [
    "ff = ForensicFace(use_gpu=True, extended=True, det_thresh=0.5)"
   ]
  },
  {
   "cell_type": "code",
   "execution_count": null,
   "metadata": {},
   "outputs": [
    {
     "data": {
      "text/plain": [
       "{'Python version': '3.10.11 (main, May 16 2023, 00:28:57) [GCC 11.2.0]',\n",
       " 'albumentations': '1.3.1',\n",
       " 'asttokens': '2.2.1',\n",
       " 'astunparse': '1.6.3',\n",
       " 'backcall': '0.2.0',\n",
       " 'backports.functools-lru-cache': '1.6.4',\n",
       " 'bleach': '6.0.0',\n",
       " 'certifi': '2023.5.7',\n",
       " 'cffi': '1.15.1',\n",
       " 'charset-normalizer': '3.1.0',\n",
       " 'coloredlogs': '15.0.1',\n",
       " 'contourpy': '1.1.0',\n",
       " 'cryptography': '41.0.1',\n",
       " 'cycler': '0.11.0',\n",
       " 'Cython': '0.29.35',\n",
       " 'debugpy': '1.5.1',\n",
       " 'decorator': '5.1.1',\n",
       " 'docutils': '0.20.1',\n",
       " 'easydict': '1.10',\n",
       " 'entrypoints': '0.4',\n",
       " 'execnb': '0.1.5',\n",
       " 'executing': '1.2.0',\n",
       " 'fastcore': '1.5.29',\n",
       " 'flatbuffers': '23.5.26',\n",
       " 'fonttools': '4.40.0',\n",
       " 'forensicface': '0.3.6',\n",
       " 'ghapi': '1.0.4',\n",
       " 'humanfriendly': '10.0',\n",
       " 'idna': '3.4',\n",
       " 'imageio': '2.31.1',\n",
       " 'importlib-metadata': '6.7.0',\n",
       " 'imutils': '0.5.4',\n",
       " 'insightface': '0.7.3',\n",
       " 'ipykernel': '6.15.0',\n",
       " 'ipython': '8.14.0',\n",
       " 'jaraco.classes': '3.2.3',\n",
       " 'jedi': '0.18.2',\n",
       " 'jeepney': '0.8.0',\n",
       " 'joblib': '1.2.0',\n",
       " 'jupyter-client': '7.3.4',\n",
       " 'jupyter-core': '5.3.1',\n",
       " 'jupyterlab-quarto': '0.2.8',\n",
       " 'keyring': '24.0.0',\n",
       " 'kiwisolver': '1.4.4',\n",
       " 'lazy-loader': '0.2',\n",
       " 'markdown-it-py': '3.0.0',\n",
       " 'matplotlib': '3.7.1',\n",
       " 'matplotlib-inline': '0.1.6',\n",
       " 'mdurl': '0.1.2',\n",
       " 'more-itertools': '9.1.0',\n",
       " 'mpmath': '1.3.0',\n",
       " 'nbdev': '2.3.27',\n",
       " 'nest-asyncio': '1.5.6',\n",
       " 'networkx': '3.1',\n",
       " 'numpy': '1.25.0',\n",
       " 'onnx': '1.14.0',\n",
       " 'onnxruntime-gpu': '1.15.0',\n",
       " 'opencv-python-headless': '4.7.0.72',\n",
       " 'packaging': '23.1',\n",
       " 'pandas': '2.0.2',\n",
       " 'parso': '0.8.3',\n",
       " 'pexpect': '4.8.0',\n",
       " 'pickleshare': '0.7.5',\n",
       " 'Pillow': '9.5.0',\n",
       " 'pip': '23.1.2',\n",
       " 'pkginfo': '1.9.6',\n",
       " 'platformdirs': '3.6.0',\n",
       " 'prettytable': '3.8.0',\n",
       " 'prompt-toolkit': '3.0.38',\n",
       " 'protobuf': '4.23.3',\n",
       " 'psutil': '5.9.0',\n",
       " 'ptyprocess': '0.7.0',\n",
       " 'pure-eval': '0.2.2',\n",
       " 'pycparser': '2.21',\n",
       " 'Pygments': '2.15.1',\n",
       " 'pyparsing': '3.1.0',\n",
       " 'python-dateutil': '2.8.2',\n",
       " 'pytz': '2023.3',\n",
       " 'PyWavelets': '1.4.1',\n",
       " 'PyYAML': '6.0',\n",
       " 'pyzmq': '25.1.0',\n",
       " 'qudida': '0.0.4',\n",
       " 'readme-renderer': '40.0',\n",
       " 'requests': '2.31.0',\n",
       " 'requests-toolbelt': '1.0.0',\n",
       " 'rfc3986': '2.0.0',\n",
       " 'rich': '13.4.2',\n",
       " 'scikit-image': '0.21.0',\n",
       " 'scikit-learn': '1.2.2',\n",
       " 'scipy': '1.10.1',\n",
       " 'seaborn': '0.13.2',\n",
       " 'SecretStorage': '3.3.3',\n",
       " 'setuptools': '67.8.0',\n",
       " 'six': '1.16.0',\n",
       " 'stack-data': '0.6.2',\n",
       " 'sympy': '1.12',\n",
       " 'threadpoolctl': '3.1.0',\n",
       " 'tifffile': '2023.4.12',\n",
       " 'tornado': '6.1',\n",
       " 'tqdm': '4.65.0',\n",
       " 'traitlets': '5.9.0',\n",
       " 'twine': '4.0.2',\n",
       " 'typing-extensions': '4.6.3',\n",
       " 'tzdata': '2023.3',\n",
       " 'urllib3': '2.0.3',\n",
       " 'watchdog': '3.0.0',\n",
       " 'wcwidth': '0.2.6',\n",
       " 'webencodings': '0.5.1',\n",
       " 'wheel': '0.38.4',\n",
       " 'zipp': '3.15.0'}"
      ]
     },
     "execution_count": null,
     "metadata": {},
     "output_type": "execute_result"
    }
   ],
   "source": [
    "ff.environment"
   ]
  },
  {
   "cell_type": "code",
   "execution_count": null,
   "metadata": {},
   "outputs": [
    {
     "data": {
      "text/plain": [
       "(dict_keys(['keypoints', 'ipd', 'embedding', 'norm', 'bbox', 'det_score', 'aligned_face', 'gender', 'age', 'pitch', 'yaw', 'roll', 'fiqa_score']),\n",
       " array([[ 61.428093,  87.567154],\n",
       "        [103.14688 ,  97.62415 ],\n",
       "        [ 61.404076, 114.31358 ],\n",
       "        [ 50.038876, 143.41814 ],\n",
       "        [ 82.59338 , 152.32835 ]], dtype=float32),\n",
       " 42.91387,\n",
       " (512,),\n",
       " 0.83124155)"
      ]
     },
     "execution_count": null,
     "metadata": {},
     "output_type": "execute_result"
    }
   ],
   "source": [
    "result = ff.process_image_single_face(\"obama2.png\", draw_keypoints=True)\n",
    "result.keys(), result[\"keypoints\"], result[\"ipd\"], result[\"embedding\"].shape, result[\n",
    "    \"det_score\"\n",
    "]"
   ]
  },
  {
   "cell_type": "code",
   "execution_count": null,
   "metadata": {},
   "outputs": [
    {
     "data": {
      "text/plain": [
       "<matplotlib.image.AxesImage>"
      ]
     },
     "execution_count": null,
     "metadata": {},
     "output_type": "execute_result"
    },
    {
     "data": {
      "image/png": "[encoded data removed]",
      "text/plain": [
       "<Figure size 640x480 with 1 Axes>"
      ]
     },
     "metadata": {},
     "output_type": "display_data"
    }
   ],
   "source": [
    "aligned_img = result[\"aligned_face\"]\n",
    "\n",
    "import matplotlib.pyplot as plt\n",
    "\n",
    "plt.imshow(aligned_img)"
   ]
  },
  {
   "cell_type": "code",
   "execution_count": null,
   "metadata": {},
   "outputs": [
    {
     "name": "stdout",
     "output_type": "stream",
     "text": [
      "WARNING: list of arrays passed as argument. Make sure image arrays are in BGR format.\n"
     ]
    },
    {
     "data": {
      "text/plain": [
       "(118, 236, 3)"
      ]
     },
     "execution_count": null,
     "metadata": {},
     "output_type": "execute_result"
    }
   ],
   "source": [
    "imgs = [cv2.imread(x) for x in [\"001_cam1_1.jpg\", \"001_frontal.jpg\"]]\n",
    "mosaic = ff.build_mosaic(imgs, mosaic_shape=(2, 1))\n",
    "mosaic.shape"
   ]
  },
  {
   "cell_type": "code",
   "execution_count": null,
   "metadata": {},
   "outputs": [
    {
     "name": "stderr",
     "output_type": "stream",
     "text": [
      "/home/rafael/miniconda3/envs/ffdev/lib/python3.10/site-packages/insightface/utils/transform.py:68: FutureWarning: `rcond` parameter will change to the default of machine precision times ``max(M, N)`` where M and N are the input matrix dimensions.\n",
      "To use the future default and silence this warning we advise to pass `rcond=None`, to keep using the old, explicitly pass `rcond=-1`.\n",
      "  P = np.linalg.lstsq(X_homo, Y)[0].T # Affine matrix. 3 x 4\n"
     ]
    },
    {
     "data": {
      "text/plain": [
       "(dict_keys(['keypoints', 'ipd', 'embedding', 'norm', 'bbox', 'det_score', 'aligned_face', 'gender', 'age', 'pitch', 'yaw', 'roll', 'fiqa_score']),\n",
       " array([[471.42743, 418.60498],\n",
       "        [522.68933, 418.05362],\n",
       "        [498.82196, 449.08923],\n",
       "        [479.3499 , 476.44193],\n",
       "        [514.33453, 476.06885]], dtype=float32),\n",
       " array([441, 355, 548, 506]),\n",
       " 0.8962144)"
      ]
     },
     "execution_count": null,
     "metadata": {},
     "output_type": "execute_result"
    }
   ],
   "source": [
    "results = ff.process_image_multiple_faces(\"tela.png\", draw_keypoints=True)\n",
    "results[0].keys(), results[0][\"keypoints\"], results[0][\"bbox\"], results[0][\"det_score\"]"
   ]
  },
  {
   "attachments": {},
   "cell_type": "markdown",
   "metadata": {},
   "source": [
    "## Comparação entre duas imagens"
   ]
  },
  {
   "cell_type": "code",
   "execution_count": null,
   "metadata": {},
   "outputs": [],
   "source": [
    "# | export\n",
    "@patch\n",
    "def compare(self: ForensicFace, img1path: str, img2path: str):\n",
    "    \"\"\"\n",
    "    Compares the similarity between two face images based on their embeddings.\n",
    "\n",
    "    Parameters:\n",
    "        - img1path (str): Path to the first image file\n",
    "        - img2path (str): Path to the second image file\n",
    "\n",
    "    Returns:\n",
    "        A float representing the similarity score between the two faces based on their embeddings.\n",
    "        The score ranges from -1.0 to 1.0, where 1.0 represents a perfect match and -1.0 represents a complete mismatch.\n",
    "    \"\"\"\n",
    "    img1data = self.process_image(img1path)\n",
    "    assert len(img1data) > 0, f\"No face detected in {img1path}\"\n",
    "    img2data = self.process_image(img2path)\n",
    "    assert len(img2data) > 0, f\"No face detected in {img2path}\"\n",
    "    return np.dot(img1data[\"embedding\"], img2data[\"embedding\"]) / (\n",
    "        img1data[\"norm\"] * img2data[\"norm\"]\n",
    "    )"
   ]
  },
  {
   "cell_type": "code",
   "execution_count": null,
   "metadata": {},
   "outputs": [
    {
     "data": {
      "text/plain": [
       "0.8556277"
      ]
     },
     "execution_count": null,
     "metadata": {},
     "output_type": "execute_result"
    }
   ],
   "source": [
    "ff.compare(\"obama.png\", \"obama2.png\")"
   ]
  },
  {
   "attachments": {},
   "cell_type": "markdown",
   "metadata": {},
   "source": [
    "## Agregação de embeddings"
   ]
  },
  {
   "cell_type": "code",
   "execution_count": null,
   "metadata": {},
   "outputs": [],
   "source": [
    "# | export\n",
    "@patch\n",
    "def aggregate_embeddings(self: ForensicFace, embeddings, weights=None, method=\"mean\"):\n",
    "    \"\"\"\n",
    "    Aggregates multiple embeddings into a single embedding.\n",
    "\n",
    "    Args:\n",
    "        embeddings (numpy.ndarray): A 2D array of shape (num_embeddings, embedding_dim) containing the embeddings to be\n",
    "            aggregated.\n",
    "        weights (numpy.ndarray, optional): A 1D array of shape (num_embeddings,) containing the weights to be assigned\n",
    "            to each embedding. If not provided, all embeddings are equally weighted.\n",
    "\n",
    "        method (str, optional): choice of agregating based on the mean or median of the embeddings. Possible values are\n",
    "            'mean' and 'median'.\n",
    "\n",
    "    Returns:\n",
    "        numpy.ndarray: A 1D array of shape (embedding_dim,) containing the aggregated embedding.\n",
    "    \"\"\"\n",
    "    if weights is None:\n",
    "        weights = np.ones(embeddings.shape[0], dtype=\"int\")\n",
    "    assert embeddings.shape[0] == weights.shape[0]\n",
    "    assert method in [\"mean\", \"median\"]\n",
    "    if method == \"mean\":\n",
    "        return np.average(embeddings, axis=0, weights=weights)\n",
    "    else:\n",
    "        weighted_embeddings = np.array([w * e for w, e in zip(weights, embeddings)])\n",
    "        return np.median(weighted_embeddings, axis=0)"
   ]
  },
  {
   "cell_type": "code",
   "execution_count": null,
   "metadata": {},
   "outputs": [],
   "source": [
    "# | export\n",
    "@patch\n",
    "def aggregate_from_images(\n",
    "    self: ForensicFace, list_of_image_paths, method=\"mean\", quality_weight=False\n",
    "):\n",
    "    \"\"\"\n",
    "    Given a list of image paths, this method returns the average embedding of all faces found in the images.\n",
    "\n",
    "    Args:\n",
    "        list_of_image_paths (List[str]): List of paths to images.\n",
    "        method (str, optional): choice of agregating based on the mean or median of the embeddings. Possible values are\n",
    "            'mean' and 'median'.\n",
    "        quality_weight (boolean, optional): If True, use the FIQA(L) score as a weight for aggregation.\n",
    "\n",
    "    Returns:\n",
    "        Union[np.ndarray, List]: If one or more faces are found, returns a 1D numpy array of shape (512,) representing the\n",
    "        average embedding. Otherwise, returns an empty list.\n",
    "    \"\"\"\n",
    "    if quality_weight:\n",
    "        assert (\n",
    "            self.extended == True\n",
    "        ), \"You must initialize ForensicFace with extended = True\"\n",
    "    embeddings = []\n",
    "    weights = []\n",
    "    for imgpath in list_of_image_paths:\n",
    "        d = self.process_image(imgpath)\n",
    "        if len(d) > 0:\n",
    "            embeddings.append(d[\"embedding\"])\n",
    "            weights.append(d[\"fiqa_score\"] if quality_weight == True else 1.0)\n",
    "    if len(embeddings) > 0:\n",
    "        return self.aggregate_embeddings(\n",
    "            np.array(embeddings), method=method, weights=np.array(weights)\n",
    "        )\n",
    "    else:\n",
    "        return []"
   ]
  },
  {
   "cell_type": "code",
   "execution_count": null,
   "metadata": {},
   "outputs": [
    {
     "name": "stdout",
     "output_type": "stream",
     "text": [
      "Applied providers: ['CUDAExecutionProvider', 'CPUExecutionProvider'], with options: {'CPUExecutionProvider': {}, 'CUDAExecutionProvider': {'device_id': '0', 'gpu_mem_limit': '18446744073709551615', 'gpu_external_alloc': '0', 'gpu_external_free': '0', 'gpu_external_empty_cache': '0', 'cudnn_conv_algo_search': 'EXHAUSTIVE', 'cudnn_conv1d_pad_to_nc1d': '0', 'arena_extend_strategy': 'kNextPowerOfTwo', 'do_copy_in_default_stream': '1', 'enable_cuda_graph': '0', 'cudnn_conv_use_max_workspace': '1', 'tunable_op_enable': '0', 'enable_skip_layer_norm_strict_mode': '0', 'tunable_op_tuning_enable': '0'}}\n",
      "find model: /home/rafael/.insightface/models/sepaelv2/1k3d68.onnx landmark_3d_68 ['None', 3, 192, 192] 0.0 1.0\n",
      "Applied providers: ['CUDAExecutionProvider', 'CPUExecutionProvider'], with options: {'CPUExecutionProvider': {}, 'CUDAExecutionProvider': {'device_id': '0', 'gpu_mem_limit': '18446744073709551615', 'gpu_external_alloc': '0', 'gpu_external_free': '0', 'gpu_external_empty_cache': '0', 'cudnn_conv_algo_search': 'EXHAUSTIVE', 'cudnn_conv1d_pad_to_nc1d': '0', 'arena_extend_strategy': 'kNextPowerOfTwo', 'do_copy_in_default_stream': '1', 'enable_cuda_graph': '0', 'cudnn_conv_use_max_workspace': '1', 'tunable_op_enable': '0', 'enable_skip_layer_norm_strict_mode': '0', 'tunable_op_tuning_enable': '0'}}\n",
      "find model: /home/rafael/.insightface/models/sepaelv2/det_10g.onnx detection [1, 3, '?', '?'] 127.5 128.0\n",
      "Applied providers: ['CUDAExecutionProvider', 'CPUExecutionProvider'], with options: {'CPUExecutionProvider': {}, 'CUDAExecutionProvider': {'device_id': '0', 'gpu_mem_limit': '18446744073709551615', 'gpu_external_alloc': '0', 'gpu_external_free': '0', 'gpu_external_empty_cache': '0', 'cudnn_conv_algo_search': 'EXHAUSTIVE', 'cudnn_conv1d_pad_to_nc1d': '0', 'arena_extend_strategy': 'kNextPowerOfTwo', 'do_copy_in_default_stream': '1', 'enable_cuda_graph': '0', 'cudnn_conv_use_max_workspace': '1', 'tunable_op_enable': '0', 'enable_skip_layer_norm_strict_mode': '0', 'tunable_op_tuning_enable': '0'}}\n",
      "find model: /home/rafael/.insightface/models/sepaelv2/genderage.onnx genderage ['None', 3, 96, 96] 0.0 1.0\n",
      "set det-size: (320, 320)\n"
     ]
    }
   ],
   "source": [
    "ff = ForensicFace(extended=True)"
   ]
  },
  {
   "cell_type": "code",
   "execution_count": null,
   "metadata": {},
   "outputs": [
    {
     "data": {
      "text/plain": [
       "(512,)"
      ]
     },
     "execution_count": null,
     "metadata": {},
     "output_type": "execute_result"
    }
   ],
   "source": [
    "aggregated = ff.aggregate_from_images([\"obama.png\", \"obama2.png\"], quality_weight=True)\n",
    "aggregated.shape"
   ]
  },
  {
   "attachments": {},
   "cell_type": "markdown",
   "metadata": {},
   "source": [
    "## Extração de faces de vídeos com margem"
   ]
  },
  {
   "cell_type": "code",
   "execution_count": null,
   "metadata": {},
   "outputs": [],
   "source": [
    "# | export\n",
    "\n",
    "\n",
    "@patch\n",
    "def _get_extended_bbox(self: ForensicFace, bbox, frame_shape, margin_factor):\n",
    "    \"\"\"\n",
    "    Computes and returns the bounding box with extended margins.\n",
    "\n",
    "    Parameters:\n",
    "        bbox (ndarray): The bounding box coordinates (startX, startY, endX, endY).\n",
    "        frame_shape (tuple): The shape of the video frame (height, width, channels).\n",
    "        margin_factor (float): The factor to be applied for computing the margin.\n",
    "\n",
    "    Returns:\n",
    "        A list with the coordinates of the extended bounding box (startX_out, startY_out, endX_out, endY_out).\n",
    "    \"\"\"\n",
    "    # add a margin on the bounding box\n",
    "    (startX, startY, endX, endY) = bbox.astype(\"int\")\n",
    "    (h, w) = frame_shape[:2]\n",
    "    out_width = (endX - startX) * margin_factor\n",
    "    out_height = (endY - startY) * margin_factor\n",
    "\n",
    "    startX_out = int((startX + endX) / 2 - out_width / 2)\n",
    "    endX_out = int((startX + endX) / 2 + out_width / 2)\n",
    "    startY_out = int((startY + endY) / 2 - out_height / 2)\n",
    "    endY_out = int((startY + endY) / 2 + out_height / 2)\n",
    "\n",
    "    # tests if the output bbox coordinates are out of frame limits\n",
    "    if startX_out < 0:\n",
    "        startX_out = 0\n",
    "    if endX_out > int(w):\n",
    "        endX_out = int(w)\n",
    "    if startY_out < 0:\n",
    "        startY_out = 0\n",
    "    if endY_out > int(h):\n",
    "        endY_out = int(h)\n",
    "    return [startX_out, startY_out, endX_out, endY_out]\n",
    "\n",
    "\n",
    "@patch\n",
    "def extract_faces(\n",
    "    self: ForensicFace,\n",
    "    video_path: str,  # path to video file\n",
    "    dest_folder: str = None,  # folder used to save extracted faces. If not provided, a new folder with the video name is created\n",
    "    every_n_frames: int = 1,  # skip some frames\n",
    "    margin: float = 2.0,  # margin to add to each face, w.r.t. detected bounding box\n",
    "    start_from: float = 0.0,  # seconds after video start to begin processing\n",
    "):\n",
    "    \"\"\"\n",
    "    Extracts faces from a video and saves them as individual images.\n",
    "\n",
    "    Parameters:\n",
    "        video_path (str): The path to the input video file.\n",
    "        dest_folder (str, optional): The path to the output folder. If not provided, a new folder with the same name as the input video file is created.\n",
    "        every_n_frames (int, optional): Extract faces from every n-th frame. Default is 1 (extract faces from all frames).\n",
    "        margin (float, optional): The factor by which the detected face bounding box should be extended. Default is 2.0.\n",
    "        start_from (float, optional): The time point (in seconds) after which the video frames should be processed. Default is 0.0.\n",
    "\n",
    "    Returns:\n",
    "        The number of extracted faces.\n",
    "    \"\"\"\n",
    "    if dest_folder is None:\n",
    "        dest_folder = os.path.splitext(video_path)[0]\n",
    "\n",
    "    os.makedirs(dest_folder, exist_ok=True)\n",
    "\n",
    "    # initialize video stream from file\n",
    "    vs = cv2.VideoCapture(video_path)\n",
    "    fps = vs.get(cv2.CAP_PROP_FPS)\n",
    "    start_frame = int(fps * start_from)\n",
    "    total_frames = int(vs.get(cv2.CAP_PROP_FRAME_COUNT)) // every_n_frames\n",
    "\n",
    "    # seek to starting frame\n",
    "    vs.set(cv2.CAP_PROP_POS_FRAMES, start_frame)\n",
    "    current_frame = start_frame\n",
    "    nfaces = 0\n",
    "    with tqdm(\n",
    "        total=total_frames,\n",
    "        bar_format=\"Frames processed: {n}/{total} | Time elapsed: {elapsed}\",\n",
    "    ) as pbar:\n",
    "        while True:\n",
    "\n",
    "            ret, frame = vs.read()\n",
    "\n",
    "            if not ret:\n",
    "                break\n",
    "\n",
    "            current_frame = current_frame + 1\n",
    "            if (current_frame % every_n_frames) != 0:\n",
    "                continue\n",
    "\n",
    "            (h, w) = frame.shape[:2]\n",
    "\n",
    "            faces = self.detectmodel.get(frame)\n",
    "            for i, face in enumerate(faces):\n",
    "                startX, startY, endX, endY = face.bbox.astype(\"int\")\n",
    "                faceW = endX - startX\n",
    "                faceH = endY - startY\n",
    "                outBbox = self._get_extended_bbox(\n",
    "                    face.bbox, frame.shape, margin_factor=margin\n",
    "                )\n",
    "                # export the face (with added margin)\n",
    "                face_crop = frame[outBbox[1] : outBbox[3], outBbox[0] : outBbox[2]]\n",
    "                face_img_path = os.path.join(\n",
    "                    dest_folder, f\"frame_{current_frame:07}_face_{i:02}.png\"\n",
    "                )\n",
    "                cv2.imwrite(face_img_path, face_crop)\n",
    "                nfaces += 1\n",
    "            pbar.update(1)\n",
    "    vs.release()\n",
    "    return nfaces"
   ]
  },
  {
   "cell_type": "code",
   "execution_count": null,
   "metadata": {},
   "outputs": [
    {
     "name": "stdout",
     "output_type": "stream",
     "text": [
      "Applied providers: ['CUDAExecutionProvider', 'CPUExecutionProvider'], with options: {'CPUExecutionProvider': {}, 'CUDAExecutionProvider': {'device_id': '0', 'gpu_mem_limit': '18446744073709551615', 'gpu_external_alloc': '0', 'gpu_external_free': '0', 'gpu_external_empty_cache': '0', 'cudnn_conv_algo_search': 'EXHAUSTIVE', 'cudnn_conv1d_pad_to_nc1d': '0', 'arena_extend_strategy': 'kNextPowerOfTwo', 'do_copy_in_default_stream': '1', 'enable_cuda_graph': '0', 'cudnn_conv_use_max_workspace': '1', 'tunable_op_enable': '0', 'enable_skip_layer_norm_strict_mode': '0', 'tunable_op_tuning_enable': '0'}}\n",
      "find model: /home/rafael/.insightface/models/sepaelv2/1k3d68.onnx landmark_3d_68 ['None', 3, 192, 192] 0.0 1.0\n",
      "Applied providers: ['CUDAExecutionProvider', 'CPUExecutionProvider'], with options: {'CPUExecutionProvider': {}, 'CUDAExecutionProvider': {'device_id': '0', 'gpu_mem_limit': '18446744073709551615', 'gpu_external_alloc': '0', 'gpu_external_free': '0', 'gpu_external_empty_cache': '0', 'cudnn_conv_algo_search': 'EXHAUSTIVE', 'cudnn_conv1d_pad_to_nc1d': '0', 'arena_extend_strategy': 'kNextPowerOfTwo', 'do_copy_in_default_stream': '1', 'enable_cuda_graph': '0', 'cudnn_conv_use_max_workspace': '1', 'tunable_op_enable': '0', 'enable_skip_layer_norm_strict_mode': '0', 'tunable_op_tuning_enable': '0'}}\n",
      "find model: /home/rafael/.insightface/models/sepaelv2/det_10g.onnx detection [1, 3, '?', '?'] 127.5 128.0\n",
      "Applied providers: ['CUDAExecutionProvider', 'CPUExecutionProvider'], with options: {'CPUExecutionProvider': {}, 'CUDAExecutionProvider': {'device_id': '0', 'gpu_mem_limit': '18446744073709551615', 'gpu_external_alloc': '0', 'gpu_external_free': '0', 'gpu_external_empty_cache': '0', 'cudnn_conv_algo_search': 'EXHAUSTIVE', 'cudnn_conv1d_pad_to_nc1d': '0', 'arena_extend_strategy': 'kNextPowerOfTwo', 'do_copy_in_default_stream': '1', 'enable_cuda_graph': '0', 'cudnn_conv_use_max_workspace': '1', 'tunable_op_enable': '0', 'enable_skip_layer_norm_strict_mode': '0', 'tunable_op_tuning_enable': '0'}}\n",
      "find model: /home/rafael/.insightface/models/sepaelv2/genderage.onnx genderage ['None', 3, 96, 96] 0.0 1.0\n",
      "set det-size: (320, 320)\n"
     ]
    }
   ],
   "source": [
    "ff = ForensicFace()"
   ]
  },
  {
   "cell_type": "code",
   "execution_count": null,
   "metadata": {},
   "outputs": [
    {
     "name": "stderr",
     "output_type": "stream",
     "text": [
      "Frames processed: 0/4973 | Time elapsed: 00:00"
     ]
    },
    {
     "name": "stderr",
     "output_type": "stream",
     "text": [
      "/home/rafael/miniconda3/envs/ffdev/lib/python3.10/site-packages/insightface/utils/transform.py:68: FutureWarning: `rcond` parameter will change to the default of machine precision times ``max(M, N)`` where M and N are the input matrix dimensions.\n",
      "To use the future default and silence this warning we advise to pass `rcond=None`, to keep using the old, explicitly pass `rcond=-1`.\n",
      "  P = np.linalg.lstsq(X_homo, Y)[0].T # Affine matrix. 3 x 4\n",
      "Frames processed: 4973/4973 | Time elapsed: 01:22\n"
     ]
    },
    {
     "data": {
      "text/plain": [
       "2011"
      ]
     },
     "execution_count": null,
     "metadata": {},
     "output_type": "execute_result"
    }
   ],
   "source": [
    "ff.extract_faces(\n",
    "    video_path=\"/home/rafael/video/video.mp4\",\n",
    "    start_from=0,\n",
    "    every_n_frames=200,\n",
    "    dest_folder=\"/home/rafael/video_faces\",\n",
    ")"
   ]
  },
  {
   "cell_type": "markdown",
   "metadata": {},
   "source": [
    "## Processing aligned images"
   ]
  },
  {
   "cell_type": "code",
   "execution_count": null,
   "metadata": {},
   "outputs": [],
   "source": [
    "# | export\n",
    "\n",
    "\n",
    "@patch\n",
    "def process_aligned_face_image(self: ForensicFace, rgb_aligned_face: np.ndarray):\n",
    "    assert rgb_aligned_face.shape == (112, 112, 3)\n",
    "    bgr_aligned_face = rgb_aligned_face[..., ::-1].copy()\n",
    "    ada_inputs = {\n",
    "        self.ort_ada.get_inputs()[0].name: self._to_input_ada(bgr_aligned_face)\n",
    "    }\n",
    "    normalized_embedding, norm = self.ort_ada.run(None, ada_inputs)\n",
    "    ret = {\"embedding\": normalized_embedding.flatten() * norm.flatten()[0]}\n",
    "    if self.extended:\n",
    "        _, fiqa_score = self.ort_fiqa.run(None, ada_inputs)\n",
    "        ret = {**ret, **{\"fiqa_score\": fiqa_score[0][0]}}\n",
    "    return ret"
   ]
  },
  {
   "cell_type": "code",
   "execution_count": null,
   "metadata": {},
   "outputs": [
    {
     "name": "stdout",
     "output_type": "stream",
     "text": [
      "Applied providers: ['CUDAExecutionProvider', 'CPUExecutionProvider'], with options: {'CPUExecutionProvider': {}, 'CUDAExecutionProvider': {'device_id': '0', 'gpu_mem_limit': '18446744073709551615', 'gpu_external_alloc': '0', 'gpu_external_free': '0', 'gpu_external_empty_cache': '0', 'cudnn_conv_algo_search': 'EXHAUSTIVE', 'cudnn_conv1d_pad_to_nc1d': '0', 'arena_extend_strategy': 'kNextPowerOfTwo', 'do_copy_in_default_stream': '1', 'enable_cuda_graph': '0', 'cudnn_conv_use_max_workspace': '1', 'tunable_op_enable': '0', 'enable_skip_layer_norm_strict_mode': '0', 'tunable_op_tuning_enable': '0'}}\n",
      "find model: /home/rafael/.insightface/models/sepaelv2/1k3d68.onnx landmark_3d_68 ['None', 3, 192, 192] 0.0 1.0\n",
      "Applied providers: ['CUDAExecutionProvider', 'CPUExecutionProvider'], with options: {'CPUExecutionProvider': {}, 'CUDAExecutionProvider': {'device_id': '0', 'gpu_mem_limit': '18446744073709551615', 'gpu_external_alloc': '0', 'gpu_external_free': '0', 'gpu_external_empty_cache': '0', 'cudnn_conv_algo_search': 'EXHAUSTIVE', 'cudnn_conv1d_pad_to_nc1d': '0', 'arena_extend_strategy': 'kNextPowerOfTwo', 'do_copy_in_default_stream': '1', 'enable_cuda_graph': '0', 'cudnn_conv_use_max_workspace': '1', 'tunable_op_enable': '0', 'enable_skip_layer_norm_strict_mode': '0', 'tunable_op_tuning_enable': '0'}}\n",
      "find model: /home/rafael/.insightface/models/sepaelv2/det_10g.onnx detection [1, 3, '?', '?'] 127.5 128.0\n",
      "Applied providers: ['CUDAExecutionProvider', 'CPUExecutionProvider'], with options: {'CPUExecutionProvider': {}, 'CUDAExecutionProvider': {'device_id': '0', 'gpu_mem_limit': '18446744073709551615', 'gpu_external_alloc': '0', 'gpu_external_free': '0', 'gpu_external_empty_cache': '0', 'cudnn_conv_algo_search': 'EXHAUSTIVE', 'cudnn_conv1d_pad_to_nc1d': '0', 'arena_extend_strategy': 'kNextPowerOfTwo', 'do_copy_in_default_stream': '1', 'enable_cuda_graph': '0', 'cudnn_conv_use_max_workspace': '1', 'tunable_op_enable': '0', 'enable_skip_layer_norm_strict_mode': '0', 'tunable_op_tuning_enable': '0'}}\n",
      "find model: /home/rafael/.insightface/models/sepaelv2/genderage.onnx genderage ['None', 3, 96, 96] 0.0 1.0\n",
      "set det-size: (320, 320)\n"
     ]
    }
   ],
   "source": [
    "ff = ForensicFace(extended=True)"
   ]
  },
  {
   "cell_type": "code",
   "execution_count": null,
   "metadata": {},
   "outputs": [],
   "source": [
    "ret = ff.process_image_single_face(\"obama.png\")\n",
    "ret2 = ff.process_aligned_face_image(ret[\"aligned_face\"])"
   ]
  },
  {
   "cell_type": "code",
   "execution_count": null,
   "metadata": {},
   "outputs": [
    {
     "data": {
      "text/plain": [
       "True"
      ]
     },
     "execution_count": null,
     "metadata": {},
     "output_type": "execute_result"
    }
   ],
   "source": [
    "np.allclose(ret[\"embedding\"], ret2[\"embedding\"])"
   ]
  },
  {
   "cell_type": "code",
   "execution_count": null,
   "metadata": {},
   "outputs": [
    {
     "data": {
      "text/plain": [
       "(2.1983922, 2.1983922)"
      ]
     },
     "execution_count": null,
     "metadata": {},
     "output_type": "execute_result"
    }
   ],
   "source": [
    "ret[\"fiqa_score\"], ret2[\"fiqa_score\"]"
   ]
  },
  {
   "cell_type": "markdown",
   "metadata": {},
   "source": [
    "#"
   ]
  }
 ],
 "metadata": {
  "kernelspec": {
   "display_name": "python3",
   "language": "python",
   "name": "python3"
  }
 },
 "nbformat": 4,
 "nbformat_minor": 4
}
